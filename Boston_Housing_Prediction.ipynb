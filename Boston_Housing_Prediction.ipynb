{
 "cells": [
  {
   "cell_type": "markdown",
   "id": "390cd75d",
   "metadata": {},
   "source": [
    "# **Boston Housing Price Prediction**\n"
   ]
  },
  {
   "cell_type": "markdown",
   "id": "9254bfea",
   "metadata": {},
   "source": [
    "## **1. nhập thêm các thư viện cần thiết**\n"
   ]
  },
  {
   "cell_type": "code",
   "execution_count": 1,
   "id": "d9cb7ee6",
   "metadata": {},
   "outputs": [],
   "source": [
    "import numpy as np\n",
    "import pandas as pd\n",
    "import matplotlib.pyplot as plt\n",
    "from sklearn.model_selection import train_test_split\n",
    "from sklearn.preprocessing import StandardScaler\n",
    "from sklearn.metrics import mean_squared_error, r2_score\n",
    "from sklearn.linear_model import LinearRegression\n",
    "from sklearn.tree import DecisionTreeRegressor\n",
    "from sklearn.ensemble import RandomForestRegressor\n",
    "import tensorflow as tf\n",
    "from tensorflow.keras.models import Sequential\n",
    "from tensorflow.keras.layers import Dense"
   ]
  },
  {
   "cell_type": "markdown",
   "id": "185c45e9",
   "metadata": {},
   "source": [
    "- `pandas`: Để thao tác và phân tích dữ liệu.\n",
    "- `numpy`: Đối với các phép toán số.\n",
    "- `matplotlib`: Để trực quan hóa dữ liệu.\n",
    "- `scikit-learn`:\n",
    "    - `train_test_split`: Để chia dữ liệu thành các tập huấn luyện và kiểm tra.\n",
    "    - `StandardScaler`: Để chuẩn hóa các tính năng.\n",
    "    - `Regression models`: (Tuyến tính, Cây quyết định và Rừng ngẫu nhiên) và các chỉ số hiệu suất.\n",
    "- `tensorflow`: Để tạo và huấn luyện mô hình Perceptron đa lớp (MLP).\n"
   ]
  },
  {
   "cell_type": "markdown",
   "id": "e026c287",
   "metadata": {},
   "source": [
    "## **2. Tải cơ sở dữ liệu nhà ở Bostont**\n"
   ]
  },
  {
   "cell_type": "code",
   "execution_count": 2,
   "id": "03eb0335",
   "metadata": {},
   "outputs": [
    {
     "name": "stdout",
     "output_type": "stream",
     "text": [
      "dataset chạy thành công\n",
      "        crim    zn  indus  chas    nox     rm   age     dis  rad  tax  \\\n",
      "0    0.00632  18.0   2.31     0  0.538  6.575  65.2  4.0900    1  296   \n",
      "1    0.02731   0.0   7.07     0  0.469  6.421  78.9  4.9671    2  242   \n",
      "2    0.02729   0.0   7.07     0  0.469  7.185  61.1  4.9671    2  242   \n",
      "3    0.03237   0.0   2.18     0  0.458  6.998  45.8  6.0622    3  222   \n",
      "4    0.06905   0.0   2.18     0  0.458  7.147  54.2  6.0622    3  222   \n",
      "..       ...   ...    ...   ...    ...    ...   ...     ...  ...  ...   \n",
      "501  0.06263   0.0  11.93     0  0.573  6.593  69.1  2.4786    1  273   \n",
      "502  0.04527   0.0  11.93     0  0.573  6.120  76.7  2.2875    1  273   \n",
      "503  0.06076   0.0  11.93     0  0.573  6.976  91.0  2.1675    1  273   \n",
      "504  0.10959   0.0  11.93     0  0.573  6.794  89.3  2.3889    1  273   \n",
      "505  0.04741   0.0  11.93     0  0.573  6.030  80.8  2.5050    1  273   \n",
      "\n",
      "     ptratio       b  lstat  medv  \n",
      "0       15.3  396.90   4.98  24.0  \n",
      "1       17.8  396.90   9.14  21.6  \n",
      "2       17.8  392.83   4.03  34.7  \n",
      "3       18.7  394.63   2.94  33.4  \n",
      "4       18.7  396.90   5.33  36.2  \n",
      "..       ...     ...    ...   ...  \n",
      "501     21.0  391.99   9.67  22.4  \n",
      "502     21.0  396.90   9.08  20.6  \n",
      "503     21.0  396.90   5.64  23.9  \n",
      "504     21.0  393.45   6.48  22.0  \n",
      "505     21.0  396.90   7.88  11.9  \n",
      "\n",
      "[506 rows x 14 columns]\n"
     ]
    }
   ],
   "source": [
    "\n",
    "data = pd.read_csv(\"BostonHousing.csv\")\n",
    "\n",
    "#chia dữ liệu thành các tính năng và mục tiêu\n",
    "X = data.drop(columns=[\"medv\"])\n",
    "y = data[\"medv\"]\n",
    "print(\"dataset chạy thành công\")\n",
    "\n",
    "print(data)"
   ]
  },
  {
   "cell_type": "markdown",
   "id": "db7846a5",
   "metadata": {},
   "source": [
    "- tập dữ liệu được tải xuống từ tệp file  .CSV,chia dữ liệu thành các tính năng (`X`) và biến mục tiêu (`y`).\n",
    "\n",
    "- note: `BostonHousing.csv` lưu ý nhớ coi file path trước khi chạy\n",
    "\n",
    "\n",
    "- `X`: Independent variables (features).\n",
    "- `y`: Dependent variable (target house price)."
   ]
  },
  {
   "cell_type": "markdown",
   "id": "9a170989",
   "metadata": {},
   "source": [
    "## **3. Chia dữ liệu thành các tập huấn luyện và kiểm tra**\n",
    "\n",
    "- Chúng tôi chia tập dữ liệu thành tập con huấn luyện (80%) và tập con kiểm tra (20%)."
   ]
  },
  {
   "cell_type": "code",
   "execution_count": 3,
   "id": "418aeaf4",
   "metadata": {},
   "outputs": [],
   "source": [
    "X_train, X_test, y_train, y_test = train_test_split(X, y, test_size=0.2, random_state=42)"
   ]
  },
  {
   "cell_type": "code",
   "execution_count": 4,
   "id": "d0188e7a",
   "metadata": {},
   "outputs": [
    {
     "data": {
      "text/plain": [
       "((404, 13), (404,))"
      ]
     },
     "execution_count": 4,
     "metadata": {},
     "output_type": "execute_result"
    }
   ],
   "source": [
    "X_train.shape,y_train.shape"
   ]
  },
  {
   "cell_type": "code",
   "execution_count": 5,
   "id": "4e38e5e4",
   "metadata": {},
   "outputs": [
    {
     "data": {
      "text/plain": [
       "((102, 13), (102,))"
      ]
     },
     "execution_count": 5,
     "metadata": {},
     "output_type": "execute_result"
    }
   ],
   "source": [
    "X_test.shape,y_test.shape"
   ]
  },
  {
   "cell_type": "markdown",
   "id": "181decc4",
   "metadata": {},
   "source": [
    "## **4. Chia tỷ lệ các tính năng**\n"
   ]
  },
  {
   "cell_type": "code",
   "execution_count": 6,
   "id": "60353b79",
   "metadata": {},
   "outputs": [],
   "source": [
    "scaler = StandardScaler()\n",
    "X_train_scaled = scaler.fit_transform(X_train)\n",
    "X_test_scaled = scaler.transform(X_test)"
   ]
  },
  {
   "cell_type": "markdown",
   "id": "a17d105f",
   "metadata": {},
   "source": [
    "- `StandardScaler`: các tính năng của thang đo có giá trị trung bình là 0 và độ lệch chuẩn là 1, cải thiện hiệu suất của mô hình."
   ]
  },
  {
   "cell_type": "markdown",
   "id": "c05e2cb0",
   "metadata": {},
   "source": [
    "## **5. Xây dựng và huấn luyện mô hình Perceptron đa lớp (MLP)**\n"
   ]
  },
  {
   "cell_type": "code",
   "execution_count": 7,
   "id": "bbcb73fe",
   "metadata": {},
   "outputs": [
    {
     "name": "stderr",
     "output_type": "stream",
     "text": [
      "c:\\Users\\nguye\\OneDrive\\Desktop\\Practice-exercise-4-Multilayer-Perceptron-Regression-Exercise-Predicting-House-Prices\\myvenv\\lib\\site-packages\\keras\\src\\layers\\core\\dense.py:87: UserWarning: Do not pass an `input_shape`/`input_dim` argument to a layer. When using Sequential models, prefer using an `Input(shape)` object as the first layer in the model instead.\n",
      "  super().__init__(activity_regularizer=activity_regularizer, **kwargs)\n"
     ]
    }
   ],
   "source": [
    "mlp_model = Sequential([\n",
    "    Dense(32, activation='relu', input_dim=X_train.shape[1]),\n",
    "    Dense(16, activation='relu'),\n",
    "    Dense(1, activation='linear')\n",
    "])\n"
   ]
  },
  {
   "cell_type": "markdown",
   "id": "3d1eb25c",
   "metadata": {},
   "source": [
    "- **Lớp đầu vào**: Khớp với số lượng đối tượng trong tập dữ liệu.\n",
    "- **Lớp ẩn**:\n",
    "\n",
    "      - Lớp 1: 32 nơ-ron, kích hoạt ReLU.\n",
    "\n",
    "      - Lớp 2: 16 nơ-ron, kích hoạt ReLU.\n",
    "      \n",
    "- **Lớp đầu ra**: 1 nơ-ron, kích hoạt tuyến tính (đối với các tác vụ hồi quy)."
   ]
  },
  {
   "cell_type": "code",
   "execution_count": 8,
   "id": "26e87bff",
   "metadata": {},
   "outputs": [],
   "source": [
    "mlp_model.compile(optimizer='adam', loss='mean_squared_error', metrics=['mae'])"
   ]
  },
  {
   "cell_type": "markdown",
   "id": "e7152c14",
   "metadata": {},
   "source": [
    "- **Optimizer**: Adam (adaptive learning rate optimization).\n",
    "- **Loss Function**: Mean Squared Error (MSE) for regression.\n",
    "- **Metric**: Mean Absolute Error (MAE) to monitor performance during training."
   ]
  },
  {
   "cell_type": "code",
   "execution_count": 9,
   "id": "5afcb5e5",
   "metadata": {},
   "outputs": [
    {
     "name": "stdout",
     "output_type": "stream",
     "text": [
      "Epoch 1/100\n",
      "\u001b[1m13/13\u001b[0m \u001b[32m━━━━━━━━━━━━━━━━━━━━\u001b[0m\u001b[37m\u001b[0m \u001b[1m3s\u001b[0m 49ms/step - loss: 585.9449 - mae: 22.2335 - val_loss: 518.4450 - val_mae: 20.9624\n",
      "Epoch 2/100\n",
      "\u001b[1m13/13\u001b[0m \u001b[32m━━━━━━━━━━━━━━━━━━━━\u001b[0m\u001b[37m\u001b[0m \u001b[1m0s\u001b[0m 17ms/step - loss: 593.4918 - mae: 22.2545 - val_loss: 491.1931 - val_mae: 20.3320\n",
      "Epoch 3/100\n",
      "\u001b[1m13/13\u001b[0m \u001b[32m━━━━━━━━━━━━━━━━━━━━\u001b[0m\u001b[37m\u001b[0m \u001b[1m0s\u001b[0m 18ms/step - loss: 521.2109 - mae: 20.8216 - val_loss: 465.1599 - val_mae: 19.7090\n",
      "Epoch 4/100\n",
      "\u001b[1m13/13\u001b[0m \u001b[32m━━━━━━━━━━━━━━━━━━━━\u001b[0m\u001b[37m\u001b[0m \u001b[1m0s\u001b[0m 22ms/step - loss: 500.5254 - mae: 20.1813 - val_loss: 438.2195 - val_mae: 19.0434\n",
      "Epoch 5/100\n",
      "\u001b[1m13/13\u001b[0m \u001b[32m━━━━━━━━━━━━━━━━━━━━\u001b[0m\u001b[37m\u001b[0m \u001b[1m0s\u001b[0m 18ms/step - loss: 503.9911 - mae: 20.1870 - val_loss: 408.6501 - val_mae: 18.3185\n",
      "Epoch 6/100\n",
      "\u001b[1m13/13\u001b[0m \u001b[32m━━━━━━━━━━━━━━━━━━━━\u001b[0m\u001b[37m\u001b[0m \u001b[1m0s\u001b[0m 20ms/step - loss: 468.7238 - mae: 19.5097 - val_loss: 375.3842 - val_mae: 17.4796\n",
      "Epoch 7/100\n",
      "\u001b[1m13/13\u001b[0m \u001b[32m━━━━━━━━━━━━━━━━━━━━\u001b[0m\u001b[37m\u001b[0m \u001b[1m0s\u001b[0m 20ms/step - loss: 412.7311 - mae: 18.3374 - val_loss: 338.4968 - val_mae: 16.5224\n",
      "Epoch 8/100\n",
      "\u001b[1m13/13\u001b[0m \u001b[32m━━━━━━━━━━━━━━━━━━━━\u001b[0m\u001b[37m\u001b[0m \u001b[1m0s\u001b[0m 20ms/step - loss: 378.7475 - mae: 17.1069 - val_loss: 297.4553 - val_mae: 15.3875\n",
      "Epoch 9/100\n",
      "\u001b[1m13/13\u001b[0m \u001b[32m━━━━━━━━━━━━━━━━━━━━\u001b[0m\u001b[37m\u001b[0m \u001b[1m0s\u001b[0m 25ms/step - loss: 327.6807 - mae: 15.9397 - val_loss: 252.9279 - val_mae: 14.0587\n",
      "Epoch 10/100\n",
      "\u001b[1m13/13\u001b[0m \u001b[32m━━━━━━━━━━━━━━━━━━━━\u001b[0m\u001b[37m\u001b[0m \u001b[1m0s\u001b[0m 19ms/step - loss: 301.0594 - mae: 15.1935 - val_loss: 207.6940 - val_mae: 12.5889\n",
      "Epoch 11/100\n",
      "\u001b[1m13/13\u001b[0m \u001b[32m━━━━━━━━━━━━━━━━━━━━\u001b[0m\u001b[37m\u001b[0m \u001b[1m0s\u001b[0m 19ms/step - loss: 239.8168 - mae: 13.4147 - val_loss: 164.8720 - val_mae: 11.0683\n",
      "Epoch 12/100\n",
      "\u001b[1m13/13\u001b[0m \u001b[32m━━━━━━━━━━━━━━━━━━━━\u001b[0m\u001b[37m\u001b[0m \u001b[1m0s\u001b[0m 23ms/step - loss: 193.5179 - mae: 11.5459 - val_loss: 127.7731 - val_mae: 9.6252\n",
      "Epoch 13/100\n",
      "\u001b[1m13/13\u001b[0m \u001b[32m━━━━━━━━━━━━━━━━━━━━\u001b[0m\u001b[37m\u001b[0m \u001b[1m0s\u001b[0m 22ms/step - loss: 164.1205 - mae: 10.4546 - val_loss: 97.6039 - val_mae: 8.2399\n",
      "Epoch 14/100\n",
      "\u001b[1m13/13\u001b[0m \u001b[32m━━━━━━━━━━━━━━━━━━━━\u001b[0m\u001b[37m\u001b[0m \u001b[1m0s\u001b[0m 19ms/step - loss: 124.7085 - mae: 8.7297 - val_loss: 75.8870 - val_mae: 7.0253\n",
      "Epoch 15/100\n",
      "\u001b[1m13/13\u001b[0m \u001b[32m━━━━━━━━━━━━━━━━━━━━\u001b[0m\u001b[37m\u001b[0m \u001b[1m0s\u001b[0m 18ms/step - loss: 98.6475 - mae: 7.7456 - val_loss: 60.7722 - val_mae: 6.1709\n",
      "Epoch 16/100\n",
      "\u001b[1m13/13\u001b[0m \u001b[32m━━━━━━━━━━━━━━━━━━━━\u001b[0m\u001b[37m\u001b[0m \u001b[1m0s\u001b[0m 18ms/step - loss: 81.4622 - mae: 7.1169 - val_loss: 50.4753 - val_mae: 5.5699\n",
      "Epoch 17/100\n",
      "\u001b[1m13/13\u001b[0m \u001b[32m━━━━━━━━━━━━━━━━━━━━\u001b[0m\u001b[37m\u001b[0m \u001b[1m0s\u001b[0m 19ms/step - loss: 69.1001 - mae: 6.5867 - val_loss: 43.2057 - val_mae: 5.0793\n",
      "Epoch 18/100\n",
      "\u001b[1m13/13\u001b[0m \u001b[32m━━━━━━━━━━━━━━━━━━━━\u001b[0m\u001b[37m\u001b[0m \u001b[1m1s\u001b[0m 28ms/step - loss: 50.5708 - mae: 5.7284 - val_loss: 38.0924 - val_mae: 4.6969\n",
      "Epoch 19/100\n",
      "\u001b[1m13/13\u001b[0m \u001b[32m━━━━━━━━━━━━━━━━━━━━\u001b[0m\u001b[37m\u001b[0m \u001b[1m0s\u001b[0m 19ms/step - loss: 41.9015 - mae: 5.1117 - val_loss: 34.3097 - val_mae: 4.3636\n",
      "Epoch 20/100\n",
      "\u001b[1m13/13\u001b[0m \u001b[32m━━━━━━━━━━━━━━━━━━━━\u001b[0m\u001b[37m\u001b[0m \u001b[1m0s\u001b[0m 20ms/step - loss: 36.4297 - mae: 4.7757 - val_loss: 31.2525 - val_mae: 4.0715\n",
      "Epoch 21/100\n",
      "\u001b[1m13/13\u001b[0m \u001b[32m━━━━━━━━━━━━━━━━━━━━\u001b[0m\u001b[37m\u001b[0m \u001b[1m0s\u001b[0m 20ms/step - loss: 34.0775 - mae: 4.6468 - val_loss: 29.1369 - val_mae: 3.8711\n",
      "Epoch 22/100\n",
      "\u001b[1m13/13\u001b[0m \u001b[32m━━━━━━━━━━━━━━━━━━━━\u001b[0m\u001b[37m\u001b[0m \u001b[1m0s\u001b[0m 20ms/step - loss: 32.1260 - mae: 4.3237 - val_loss: 27.5469 - val_mae: 3.7246\n",
      "Epoch 23/100\n",
      "\u001b[1m13/13\u001b[0m \u001b[32m━━━━━━━━━━━━━━━━━━━━\u001b[0m\u001b[37m\u001b[0m \u001b[1m1s\u001b[0m 40ms/step - loss: 25.4028 - mae: 3.9836 - val_loss: 26.5272 - val_mae: 3.5992\n",
      "Epoch 24/100\n",
      "\u001b[1m13/13\u001b[0m \u001b[32m━━━━━━━━━━━━━━━━━━━━\u001b[0m\u001b[37m\u001b[0m \u001b[1m0s\u001b[0m 19ms/step - loss: 23.1972 - mae: 3.8501 - val_loss: 25.6590 - val_mae: 3.5175\n",
      "Epoch 25/100\n",
      "\u001b[1m13/13\u001b[0m \u001b[32m━━━━━━━━━━━━━━━━━━━━\u001b[0m\u001b[37m\u001b[0m \u001b[1m0s\u001b[0m 23ms/step - loss: 23.4978 - mae: 3.7864 - val_loss: 24.9575 - val_mae: 3.4435\n",
      "Epoch 26/100\n",
      "\u001b[1m13/13\u001b[0m \u001b[32m━━━━━━━━━━━━━━━━━━━━\u001b[0m\u001b[37m\u001b[0m \u001b[1m0s\u001b[0m 19ms/step - loss: 26.5529 - mae: 3.7764 - val_loss: 24.4472 - val_mae: 3.3833\n",
      "Epoch 27/100\n",
      "\u001b[1m13/13\u001b[0m \u001b[32m━━━━━━━━━━━━━━━━━━━━\u001b[0m\u001b[37m\u001b[0m \u001b[1m0s\u001b[0m 21ms/step - loss: 22.4932 - mae: 3.6108 - val_loss: 23.9313 - val_mae: 3.3349\n",
      "Epoch 28/100\n",
      "\u001b[1m13/13\u001b[0m \u001b[32m━━━━━━━━━━━━━━━━━━━━\u001b[0m\u001b[37m\u001b[0m \u001b[1m0s\u001b[0m 29ms/step - loss: 19.2929 - mae: 3.4307 - val_loss: 23.5096 - val_mae: 3.2882\n",
      "Epoch 29/100\n",
      "\u001b[1m13/13\u001b[0m \u001b[32m━━━━━━━━━━━━━━━━━━━━\u001b[0m\u001b[37m\u001b[0m \u001b[1m0s\u001b[0m 17ms/step - loss: 20.7974 - mae: 3.4819 - val_loss: 23.1701 - val_mae: 3.2469\n",
      "Epoch 30/100\n",
      "\u001b[1m13/13\u001b[0m \u001b[32m━━━━━━━━━━━━━━━━━━━━\u001b[0m\u001b[37m\u001b[0m \u001b[1m0s\u001b[0m 18ms/step - loss: 22.3252 - mae: 3.5997 - val_loss: 22.7559 - val_mae: 3.2083\n",
      "Epoch 31/100\n",
      "\u001b[1m13/13\u001b[0m \u001b[32m━━━━━━━━━━━━━━━━━━━━\u001b[0m\u001b[37m\u001b[0m \u001b[1m0s\u001b[0m 20ms/step - loss: 20.5514 - mae: 3.4043 - val_loss: 22.3142 - val_mae: 3.1731\n",
      "Epoch 32/100\n",
      "\u001b[1m13/13\u001b[0m \u001b[32m━━━━━━━━━━━━━━━━━━━━\u001b[0m\u001b[37m\u001b[0m \u001b[1m0s\u001b[0m 19ms/step - loss: 22.1851 - mae: 3.5756 - val_loss: 21.8398 - val_mae: 3.1403\n",
      "Epoch 33/100\n",
      "\u001b[1m13/13\u001b[0m \u001b[32m━━━━━━━━━━━━━━━━━━━━\u001b[0m\u001b[37m\u001b[0m \u001b[1m0s\u001b[0m 18ms/step - loss: 18.7259 - mae: 3.3203 - val_loss: 21.5756 - val_mae: 3.1043\n",
      "Epoch 34/100\n",
      "\u001b[1m13/13\u001b[0m \u001b[32m━━━━━━━━━━━━━━━━━━━━\u001b[0m\u001b[37m\u001b[0m \u001b[1m0s\u001b[0m 21ms/step - loss: 19.0678 - mae: 3.2987 - val_loss: 21.2805 - val_mae: 3.0688\n",
      "Epoch 35/100\n",
      "\u001b[1m13/13\u001b[0m \u001b[32m━━━━━━━━━━━━━━━━━━━━\u001b[0m\u001b[37m\u001b[0m \u001b[1m0s\u001b[0m 24ms/step - loss: 18.7687 - mae: 3.2433 - val_loss: 20.8572 - val_mae: 3.0401\n",
      "Epoch 36/100\n",
      "\u001b[1m13/13\u001b[0m \u001b[32m━━━━━━━━━━━━━━━━━━━━\u001b[0m\u001b[37m\u001b[0m \u001b[1m0s\u001b[0m 19ms/step - loss: 18.8118 - mae: 3.2832 - val_loss: 20.4704 - val_mae: 3.0112\n",
      "Epoch 37/100\n",
      "\u001b[1m13/13\u001b[0m \u001b[32m━━━━━━━━━━━━━━━━━━━━\u001b[0m\u001b[37m\u001b[0m \u001b[1m0s\u001b[0m 22ms/step - loss: 20.0015 - mae: 3.2725 - val_loss: 20.1118 - val_mae: 2.9829\n",
      "Epoch 38/100\n",
      "\u001b[1m13/13\u001b[0m \u001b[32m━━━━━━━━━━━━━━━━━━━━\u001b[0m\u001b[37m\u001b[0m \u001b[1m0s\u001b[0m 20ms/step - loss: 18.6920 - mae: 3.2269 - val_loss: 19.8127 - val_mae: 2.9502\n",
      "Epoch 39/100\n",
      "\u001b[1m13/13\u001b[0m \u001b[32m━━━━━━━━━━━━━━━━━━━━\u001b[0m\u001b[37m\u001b[0m \u001b[1m0s\u001b[0m 18ms/step - loss: 16.7084 - mae: 3.1363 - val_loss: 19.5963 - val_mae: 2.9174\n",
      "Epoch 40/100\n",
      "\u001b[1m13/13\u001b[0m \u001b[32m━━━━━━━━━━━━━━━━━━━━\u001b[0m\u001b[37m\u001b[0m \u001b[1m0s\u001b[0m 19ms/step - loss: 17.9358 - mae: 3.1474 - val_loss: 19.1896 - val_mae: 2.8911\n",
      "Epoch 41/100\n",
      "\u001b[1m13/13\u001b[0m \u001b[32m━━━━━━━━━━━━━━━━━━━━\u001b[0m\u001b[37m\u001b[0m \u001b[1m0s\u001b[0m 20ms/step - loss: 21.1208 - mae: 3.3958 - val_loss: 18.9561 - val_mae: 2.8699\n",
      "Epoch 42/100\n",
      "\u001b[1m13/13\u001b[0m \u001b[32m━━━━━━━━━━━━━━━━━━━━\u001b[0m\u001b[37m\u001b[0m \u001b[1m0s\u001b[0m 19ms/step - loss: 17.6045 - mae: 3.1072 - val_loss: 18.6824 - val_mae: 2.8391\n",
      "Epoch 43/100\n",
      "\u001b[1m13/13\u001b[0m \u001b[32m━━━━━━━━━━━━━━━━━━━━\u001b[0m\u001b[37m\u001b[0m \u001b[1m0s\u001b[0m 21ms/step - loss: 17.8333 - mae: 3.0069 - val_loss: 18.4036 - val_mae: 2.8143\n",
      "Epoch 44/100\n",
      "\u001b[1m13/13\u001b[0m \u001b[32m━━━━━━━━━━━━━━━━━━━━\u001b[0m\u001b[37m\u001b[0m \u001b[1m0s\u001b[0m 23ms/step - loss: 14.8227 - mae: 2.9001 - val_loss: 18.0450 - val_mae: 2.7832\n",
      "Epoch 45/100\n",
      "\u001b[1m13/13\u001b[0m \u001b[32m━━━━━━━━━━━━━━━━━━━━\u001b[0m\u001b[37m\u001b[0m \u001b[1m0s\u001b[0m 17ms/step - loss: 14.6807 - mae: 2.9350 - val_loss: 17.8036 - val_mae: 2.7590\n",
      "Epoch 46/100\n",
      "\u001b[1m13/13\u001b[0m \u001b[32m━━━━━━━━━━━━━━━━━━━━\u001b[0m\u001b[37m\u001b[0m \u001b[1m0s\u001b[0m 17ms/step - loss: 13.8617 - mae: 2.8276 - val_loss: 17.5674 - val_mae: 2.7320\n",
      "Epoch 47/100\n",
      "\u001b[1m13/13\u001b[0m \u001b[32m━━━━━━━━━━━━━━━━━━━━\u001b[0m\u001b[37m\u001b[0m \u001b[1m0s\u001b[0m 23ms/step - loss: 16.7827 - mae: 2.9480 - val_loss: 17.2496 - val_mae: 2.7126\n",
      "Epoch 48/100\n",
      "\u001b[1m13/13\u001b[0m \u001b[32m━━━━━━━━━━━━━━━━━━━━\u001b[0m\u001b[37m\u001b[0m \u001b[1m0s\u001b[0m 23ms/step - loss: 15.5764 - mae: 2.9112 - val_loss: 16.9993 - val_mae: 2.6935\n",
      "Epoch 49/100\n",
      "\u001b[1m13/13\u001b[0m \u001b[32m━━━━━━━━━━━━━━━━━━━━\u001b[0m\u001b[37m\u001b[0m \u001b[1m0s\u001b[0m 21ms/step - loss: 13.9342 - mae: 2.8015 - val_loss: 16.7388 - val_mae: 2.6646\n",
      "Epoch 50/100\n",
      "\u001b[1m13/13\u001b[0m \u001b[32m━━━━━━━━━━━━━━━━━━━━\u001b[0m\u001b[37m\u001b[0m \u001b[1m0s\u001b[0m 18ms/step - loss: 14.4416 - mae: 2.8570 - val_loss: 16.5308 - val_mae: 2.6417\n",
      "Epoch 51/100\n",
      "\u001b[1m13/13\u001b[0m \u001b[32m━━━━━━━━━━━━━━━━━━━━\u001b[0m\u001b[37m\u001b[0m \u001b[1m0s\u001b[0m 23ms/step - loss: 14.9524 - mae: 2.8408 - val_loss: 16.2880 - val_mae: 2.6138\n",
      "Epoch 52/100\n",
      "\u001b[1m13/13\u001b[0m \u001b[32m━━━━━━━━━━━━━━━━━━━━\u001b[0m\u001b[37m\u001b[0m \u001b[1m0s\u001b[0m 21ms/step - loss: 17.9818 - mae: 2.9736 - val_loss: 16.0377 - val_mae: 2.5938\n",
      "Epoch 53/100\n",
      "\u001b[1m13/13\u001b[0m \u001b[32m━━━━━━━━━━━━━━━━━━━━\u001b[0m\u001b[37m\u001b[0m \u001b[1m0s\u001b[0m 21ms/step - loss: 15.7391 - mae: 2.8455 - val_loss: 15.8292 - val_mae: 2.5715\n",
      "Epoch 54/100\n",
      "\u001b[1m13/13\u001b[0m \u001b[32m━━━━━━━━━━━━━━━━━━━━\u001b[0m\u001b[37m\u001b[0m \u001b[1m0s\u001b[0m 20ms/step - loss: 14.7414 - mae: 2.7669 - val_loss: 15.6405 - val_mae: 2.5578\n",
      "Epoch 55/100\n",
      "\u001b[1m13/13\u001b[0m \u001b[32m━━━━━━━━━━━━━━━━━━━━\u001b[0m\u001b[37m\u001b[0m \u001b[1m0s\u001b[0m 22ms/step - loss: 12.7047 - mae: 2.6706 - val_loss: 15.4360 - val_mae: 2.5358\n",
      "Epoch 56/100\n",
      "\u001b[1m13/13\u001b[0m \u001b[32m━━━━━━━━━━━━━━━━━━━━\u001b[0m\u001b[37m\u001b[0m \u001b[1m0s\u001b[0m 21ms/step - loss: 15.3453 - mae: 2.7196 - val_loss: 15.2613 - val_mae: 2.5239\n",
      "Epoch 57/100\n",
      "\u001b[1m13/13\u001b[0m \u001b[32m━━━━━━━━━━━━━━━━━━━━\u001b[0m\u001b[37m\u001b[0m \u001b[1m0s\u001b[0m 20ms/step - loss: 14.2596 - mae: 2.7792 - val_loss: 15.0937 - val_mae: 2.5094\n",
      "Epoch 58/100\n",
      "\u001b[1m13/13\u001b[0m \u001b[32m━━━━━━━━━━━━━━━━━━━━\u001b[0m\u001b[37m\u001b[0m \u001b[1m0s\u001b[0m 20ms/step - loss: 11.3721 - mae: 2.5395 - val_loss: 14.9823 - val_mae: 2.5052\n",
      "Epoch 59/100\n",
      "\u001b[1m13/13\u001b[0m \u001b[32m━━━━━━━━━━━━━━━━━━━━\u001b[0m\u001b[37m\u001b[0m \u001b[1m0s\u001b[0m 22ms/step - loss: 13.4502 - mae: 2.6264 - val_loss: 14.7835 - val_mae: 2.4895\n",
      "Epoch 60/100\n",
      "\u001b[1m13/13\u001b[0m \u001b[32m━━━━━━━━━━━━━━━━━━━━\u001b[0m\u001b[37m\u001b[0m \u001b[1m0s\u001b[0m 18ms/step - loss: 16.1021 - mae: 2.7882 - val_loss: 14.6458 - val_mae: 2.4820\n",
      "Epoch 61/100\n",
      "\u001b[1m13/13\u001b[0m \u001b[32m━━━━━━━━━━━━━━━━━━━━\u001b[0m\u001b[37m\u001b[0m \u001b[1m0s\u001b[0m 21ms/step - loss: 11.5898 - mae: 2.5473 - val_loss: 14.5027 - val_mae: 2.4661\n",
      "Epoch 62/100\n",
      "\u001b[1m13/13\u001b[0m \u001b[32m━━━━━━━━━━━━━━━━━━━━\u001b[0m\u001b[37m\u001b[0m \u001b[1m0s\u001b[0m 17ms/step - loss: 15.1315 - mae: 2.7809 - val_loss: 14.3406 - val_mae: 2.4661\n",
      "Epoch 63/100\n",
      "\u001b[1m13/13\u001b[0m \u001b[32m━━━━━━━━━━━━━━━━━━━━\u001b[0m\u001b[37m\u001b[0m \u001b[1m0s\u001b[0m 17ms/step - loss: 12.3708 - mae: 2.5561 - val_loss: 14.2166 - val_mae: 2.4606\n",
      "Epoch 64/100\n",
      "\u001b[1m13/13\u001b[0m \u001b[32m━━━━━━━━━━━━━━━━━━━━\u001b[0m\u001b[37m\u001b[0m \u001b[1m0s\u001b[0m 17ms/step - loss: 12.2794 - mae: 2.5381 - val_loss: 14.1844 - val_mae: 2.4629\n",
      "Epoch 65/100\n",
      "\u001b[1m13/13\u001b[0m \u001b[32m━━━━━━━━━━━━━━━━━━━━\u001b[0m\u001b[37m\u001b[0m \u001b[1m0s\u001b[0m 19ms/step - loss: 13.7224 - mae: 2.6894 - val_loss: 14.0375 - val_mae: 2.4549\n",
      "Epoch 66/100\n",
      "\u001b[1m13/13\u001b[0m \u001b[32m━━━━━━━━━━━━━━━━━━━━\u001b[0m\u001b[37m\u001b[0m \u001b[1m0s\u001b[0m 17ms/step - loss: 14.8975 - mae: 2.7327 - val_loss: 13.9034 - val_mae: 2.4425\n",
      "Epoch 67/100\n",
      "\u001b[1m13/13\u001b[0m \u001b[32m━━━━━━━━━━━━━━━━━━━━\u001b[0m\u001b[37m\u001b[0m \u001b[1m0s\u001b[0m 22ms/step - loss: 10.5160 - mae: 2.3974 - val_loss: 13.8138 - val_mae: 2.4374\n",
      "Epoch 68/100\n",
      "\u001b[1m13/13\u001b[0m \u001b[32m━━━━━━━━━━━━━━━━━━━━\u001b[0m\u001b[37m\u001b[0m \u001b[1m0s\u001b[0m 20ms/step - loss: 11.7846 - mae: 2.4186 - val_loss: 13.7139 - val_mae: 2.4207\n",
      "Epoch 69/100\n",
      "\u001b[1m13/13\u001b[0m \u001b[32m━━━━━━━━━━━━━━━━━━━━\u001b[0m\u001b[37m\u001b[0m \u001b[1m0s\u001b[0m 19ms/step - loss: 12.2535 - mae: 2.5675 - val_loss: 13.6491 - val_mae: 2.4304\n",
      "Epoch 70/100\n",
      "\u001b[1m13/13\u001b[0m \u001b[32m━━━━━━━━━━━━━━━━━━━━\u001b[0m\u001b[37m\u001b[0m \u001b[1m0s\u001b[0m 22ms/step - loss: 13.0368 - mae: 2.5263 - val_loss: 13.5219 - val_mae: 2.4306\n",
      "Epoch 71/100\n",
      "\u001b[1m13/13\u001b[0m \u001b[32m━━━━━━━━━━━━━━━━━━━━\u001b[0m\u001b[37m\u001b[0m \u001b[1m0s\u001b[0m 17ms/step - loss: 13.6345 - mae: 2.6185 - val_loss: 13.4096 - val_mae: 2.4243\n",
      "Epoch 72/100\n",
      "\u001b[1m13/13\u001b[0m \u001b[32m━━━━━━━━━━━━━━━━━━━━\u001b[0m\u001b[37m\u001b[0m \u001b[1m0s\u001b[0m 21ms/step - loss: 11.2840 - mae: 2.4939 - val_loss: 13.3122 - val_mae: 2.4148\n",
      "Epoch 73/100\n",
      "\u001b[1m13/13\u001b[0m \u001b[32m━━━━━━━━━━━━━━━━━━━━\u001b[0m\u001b[37m\u001b[0m \u001b[1m0s\u001b[0m 22ms/step - loss: 11.2258 - mae: 2.4877 - val_loss: 13.3117 - val_mae: 2.4075\n",
      "Epoch 74/100\n",
      "\u001b[1m13/13\u001b[0m \u001b[32m━━━━━━━━━━━━━━━━━━━━\u001b[0m\u001b[37m\u001b[0m \u001b[1m0s\u001b[0m 17ms/step - loss: 12.7506 - mae: 2.5650 - val_loss: 13.2190 - val_mae: 2.4186\n",
      "Epoch 75/100\n",
      "\u001b[1m13/13\u001b[0m \u001b[32m━━━━━━━━━━━━━━━━━━━━\u001b[0m\u001b[37m\u001b[0m \u001b[1m0s\u001b[0m 19ms/step - loss: 13.9069 - mae: 2.6132 - val_loss: 13.1427 - val_mae: 2.4193\n",
      "Epoch 76/100\n",
      "\u001b[1m13/13\u001b[0m \u001b[32m━━━━━━━━━━━━━━━━━━━━\u001b[0m\u001b[37m\u001b[0m \u001b[1m0s\u001b[0m 21ms/step - loss: 9.9622 - mae: 2.2547 - val_loss: 13.0444 - val_mae: 2.4065\n",
      "Epoch 77/100\n",
      "\u001b[1m13/13\u001b[0m \u001b[32m━━━━━━━━━━━━━━━━━━━━\u001b[0m\u001b[37m\u001b[0m \u001b[1m0s\u001b[0m 21ms/step - loss: 11.6081 - mae: 2.5439 - val_loss: 13.0027 - val_mae: 2.4017\n",
      "Epoch 78/100\n",
      "\u001b[1m13/13\u001b[0m \u001b[32m━━━━━━━━━━━━━━━━━━━━\u001b[0m\u001b[37m\u001b[0m \u001b[1m0s\u001b[0m 19ms/step - loss: 11.4264 - mae: 2.4084 - val_loss: 12.9012 - val_mae: 2.3931\n",
      "Epoch 79/100\n",
      "\u001b[1m13/13\u001b[0m \u001b[32m━━━━━━━━━━━━━━━━━━━━\u001b[0m\u001b[37m\u001b[0m \u001b[1m0s\u001b[0m 17ms/step - loss: 11.0387 - mae: 2.3918 - val_loss: 12.8690 - val_mae: 2.4028\n",
      "Epoch 80/100\n",
      "\u001b[1m13/13\u001b[0m \u001b[32m━━━━━━━━━━━━━━━━━━━━\u001b[0m\u001b[37m\u001b[0m \u001b[1m0s\u001b[0m 20ms/step - loss: 10.8560 - mae: 2.4107 - val_loss: 12.7828 - val_mae: 2.4009\n",
      "Epoch 81/100\n",
      "\u001b[1m13/13\u001b[0m \u001b[32m━━━━━━━━━━━━━━━━━━━━\u001b[0m\u001b[37m\u001b[0m \u001b[1m0s\u001b[0m 17ms/step - loss: 11.4196 - mae: 2.4242 - val_loss: 12.6596 - val_mae: 2.3777\n",
      "Epoch 82/100\n",
      "\u001b[1m13/13\u001b[0m \u001b[32m━━━━━━━━━━━━━━━━━━━━\u001b[0m\u001b[37m\u001b[0m \u001b[1m0s\u001b[0m 23ms/step - loss: 12.4291 - mae: 2.5074 - val_loss: 12.6576 - val_mae: 2.3839\n",
      "Epoch 83/100\n",
      "\u001b[1m13/13\u001b[0m \u001b[32m━━━━━━━━━━━━━━━━━━━━\u001b[0m\u001b[37m\u001b[0m \u001b[1m0s\u001b[0m 20ms/step - loss: 11.6080 - mae: 2.3240 - val_loss: 12.6252 - val_mae: 2.3829\n",
      "Epoch 84/100\n",
      "\u001b[1m13/13\u001b[0m \u001b[32m━━━━━━━━━━━━━━━━━━━━\u001b[0m\u001b[37m\u001b[0m \u001b[1m0s\u001b[0m 17ms/step - loss: 8.0303 - mae: 2.1188 - val_loss: 12.5651 - val_mae: 2.3697\n",
      "Epoch 85/100\n",
      "\u001b[1m13/13\u001b[0m \u001b[32m━━━━━━━━━━━━━━━━━━━━\u001b[0m\u001b[37m\u001b[0m \u001b[1m0s\u001b[0m 18ms/step - loss: 11.2897 - mae: 2.4423 - val_loss: 12.4889 - val_mae: 2.3801\n",
      "Epoch 86/100\n",
      "\u001b[1m13/13\u001b[0m \u001b[32m━━━━━━━━━━━━━━━━━━━━\u001b[0m\u001b[37m\u001b[0m \u001b[1m0s\u001b[0m 17ms/step - loss: 10.8344 - mae: 2.3331 - val_loss: 12.4929 - val_mae: 2.3886\n",
      "Epoch 87/100\n",
      "\u001b[1m13/13\u001b[0m \u001b[32m━━━━━━━━━━━━━━━━━━━━\u001b[0m\u001b[37m\u001b[0m \u001b[1m0s\u001b[0m 20ms/step - loss: 10.3916 - mae: 2.3902 - val_loss: 12.4183 - val_mae: 2.3716\n",
      "Epoch 88/100\n",
      "\u001b[1m13/13\u001b[0m \u001b[32m━━━━━━━━━━━━━━━━━━━━\u001b[0m\u001b[37m\u001b[0m \u001b[1m0s\u001b[0m 18ms/step - loss: 12.0134 - mae: 2.4838 - val_loss: 12.3520 - val_mae: 2.3657\n",
      "Epoch 89/100\n",
      "\u001b[1m13/13\u001b[0m \u001b[32m━━━━━━━━━━━━━━━━━━━━\u001b[0m\u001b[37m\u001b[0m \u001b[1m0s\u001b[0m 23ms/step - loss: 10.4810 - mae: 2.3729 - val_loss: 12.3916 - val_mae: 2.3638\n",
      "Epoch 90/100\n",
      "\u001b[1m13/13\u001b[0m \u001b[32m━━━━━━━━━━━━━━━━━━━━\u001b[0m\u001b[37m\u001b[0m \u001b[1m0s\u001b[0m 20ms/step - loss: 10.4728 - mae: 2.3773 - val_loss: 12.3521 - val_mae: 2.3725\n",
      "Epoch 91/100\n",
      "\u001b[1m13/13\u001b[0m \u001b[32m━━━━━━━━━━━━━━━━━━━━\u001b[0m\u001b[37m\u001b[0m \u001b[1m0s\u001b[0m 18ms/step - loss: 10.3207 - mae: 2.3574 - val_loss: 12.2674 - val_mae: 2.3653\n",
      "Epoch 92/100\n",
      "\u001b[1m13/13\u001b[0m \u001b[32m━━━━━━━━━━━━━━━━━━━━\u001b[0m\u001b[37m\u001b[0m \u001b[1m0s\u001b[0m 19ms/step - loss: 9.9205 - mae: 2.3205 - val_loss: 12.2503 - val_mae: 2.3570\n",
      "Epoch 93/100\n",
      "\u001b[1m13/13\u001b[0m \u001b[32m━━━━━━━━━━━━━━━━━━━━\u001b[0m\u001b[37m\u001b[0m \u001b[1m0s\u001b[0m 24ms/step - loss: 9.4892 - mae: 2.2818 - val_loss: 12.2179 - val_mae: 2.3655\n",
      "Epoch 94/100\n",
      "\u001b[1m13/13\u001b[0m \u001b[32m━━━━━━━━━━━━━━━━━━━━\u001b[0m\u001b[37m\u001b[0m \u001b[1m0s\u001b[0m 20ms/step - loss: 11.6373 - mae: 2.3949 - val_loss: 12.2106 - val_mae: 2.3668\n",
      "Epoch 95/100\n",
      "\u001b[1m13/13\u001b[0m \u001b[32m━━━━━━━━━━━━━━━━━━━━\u001b[0m\u001b[37m\u001b[0m \u001b[1m0s\u001b[0m 20ms/step - loss: 11.0973 - mae: 2.3924 - val_loss: 12.1479 - val_mae: 2.3630\n",
      "Epoch 96/100\n",
      "\u001b[1m13/13\u001b[0m \u001b[32m━━━━━━━━━━━━━━━━━━━━\u001b[0m\u001b[37m\u001b[0m \u001b[1m0s\u001b[0m 19ms/step - loss: 10.5179 - mae: 2.4235 - val_loss: 12.0963 - val_mae: 2.3472\n",
      "Epoch 97/100\n",
      "\u001b[1m13/13\u001b[0m \u001b[32m━━━━━━━━━━━━━━━━━━━━\u001b[0m\u001b[37m\u001b[0m \u001b[1m0s\u001b[0m 20ms/step - loss: 10.9195 - mae: 2.4115 - val_loss: 12.0721 - val_mae: 2.3482\n",
      "Epoch 98/100\n",
      "\u001b[1m13/13\u001b[0m \u001b[32m━━━━━━━━━━━━━━━━━━━━\u001b[0m\u001b[37m\u001b[0m \u001b[1m0s\u001b[0m 22ms/step - loss: 10.1793 - mae: 2.2708 - val_loss: 12.0553 - val_mae: 2.3539\n",
      "Epoch 99/100\n",
      "\u001b[1m13/13\u001b[0m \u001b[32m━━━━━━━━━━━━━━━━━━━━\u001b[0m\u001b[37m\u001b[0m \u001b[1m0s\u001b[0m 18ms/step - loss: 10.4143 - mae: 2.2856 - val_loss: 12.0102 - val_mae: 2.3511\n",
      "Epoch 100/100\n",
      "\u001b[1m13/13\u001b[0m \u001b[32m━━━━━━━━━━━━━━━━━━━━\u001b[0m\u001b[37m\u001b[0m \u001b[1m0s\u001b[0m 20ms/step - loss: 12.9128 - mae: 2.4939 - val_loss: 11.9475 - val_mae: 2.3339\n"
     ]
    }
   ],
   "source": [
    "history = mlp_model.fit(X_train_scaled, y_train, epochs=100, batch_size=32, validation_data=(X_test_scaled, y_test))"
   ]
  },
  {
   "cell_type": "markdown",
   "id": "c60690ae",
   "metadata": {},
   "source": [
    "- **Epochs**: Số lần đi qua dữ liệu huấn luyện.\n",
    "- **Batch Size**: Số lượng mẫu được xử lý trước khi cập nhật mô hình.\n",
    "- **Validation Data**: Theo dõi hiệu suất trên tập kiểm tra trong quá trình đào tạo."
   ]
  },
  {
   "cell_type": "markdown",
   "id": "cac4d342",
   "metadata": {},
   "source": [
    "## **6. Đánh giá mô hình MLP**\n",
    "- Chúng tôi đánh giá MLP đã được đào tạo trên tập kiểm tra và trực quan hóa các dự đoán."
   ]
  },
  {
   "cell_type": "code",
   "execution_count": 10,
   "id": "1345c5ba",
   "metadata": {},
   "outputs": [
    {
     "name": "stdout",
     "output_type": "stream",
     "text": [
      "\u001b[1m4/4\u001b[0m \u001b[32m━━━━━━━━━━━━━━━━━━━━\u001b[0m\u001b[37m\u001b[0m \u001b[1m0s\u001b[0m 21ms/step - loss: 9.0418 - mae: 2.2134\n",
      "Test Loss (MSE): 11.94750690460205\n",
      "Test Mean Absolute Error (MAE): 2.333913564682007\n"
     ]
    }
   ],
   "source": [
    "test_loss, test_mae = mlp_model.evaluate(X_test_scaled, y_test)\n",
    "print(f'Test Loss (MSE): {test_loss}')\n",
    "print(f'Test Mean Absolute Error (MAE): {test_mae}')"
   ]
  },
  {
   "cell_type": "markdown",
   "id": "8127bab1",
   "metadata": {},
   "source": [
    "- Đánh giá mô hình MLP bằng MSE và MAE trên dữ liệu thử nghiệm"
   ]
  },
  {
   "cell_type": "code",
   "execution_count": 11,
   "id": "2982486d",
   "metadata": {},
   "outputs": [
    {
     "name": "stdout",
     "output_type": "stream",
     "text": [
      "\u001b[1m4/4\u001b[0m \u001b[32m━━━━━━━━━━━━━━━━━━━━\u001b[0m\u001b[37m\u001b[0m \u001b[1m0s\u001b[0m 41ms/step\n"
     ]
    }
   ],
   "source": [
    "y_pred_mlp = mlp_model.predict(X_test_scaled) #prediction"
   ]
  },
  {
   "cell_type": "markdown",
   "id": "c370b6f5",
   "metadata": {},
   "source": [
    "- **in kết quả**\n",
    "\n",
    "- In ra MSE và 𝑅2 thể hiện mức độ tốt của mô hình MLP"
   ]
  },
  {
   "cell_type": "code",
   "execution_count": 12,
   "id": "cebec174",
   "metadata": {},
   "outputs": [
    {
     "name": "stdout",
     "output_type": "stream",
     "text": [
      "MLP Model Evaluation:\n",
      "Mean Squared Error (MSE): 11.95\n",
      "R² Score: 0.84\n"
     ]
    }
   ],
   "source": [
    "y_pred_mlp = y_pred_mlp.flatten()#mảng 1D\n",
    "\n",
    "#tính toán các chỉ số\n",
    "mse_mlp = mean_squared_error(y_test, y_pred_mlp)\n",
    "r2_mlp = r2_score(y_test, y_pred_mlp)\n",
    "\n",
    "#in ra kết quả\n",
    "print(\"MLP Model Evaluation:\")\n",
    "print(f\"Mean Squared Error (MSE): {mse_mlp:.2f}\")\n",
    "print(f\"R² Score: {r2_mlp:.2f}\")\n"
   ]
  },
  {
   "cell_type": "markdown",
   "id": "8787b267",
   "metadata": {},
   "source": [
    "- `y_pred_mlp`: Dự đoán của mô hình MLP"
   ]
  },
  {
   "cell_type": "code",
   "execution_count": 13,
   "id": "52e24cea",
   "metadata": {},
   "outputs": [
    {
     "data": {
      "image/png": "[encoded data removed]",
      "text/plain": [
       "<Figure size 640x480 with 1 Axes>"
      ]
     },
     "metadata": {},
     "output_type": "display_data"
    }
   ],
   "source": [
    "plt.scatter(y_test, y_pred_mlp)\n",
    "plt.xlabel('Actual Prices')\n",
    "plt.ylabel('Predicted Prices')\n",
    "plt.title('Actual vs. Predicted House Prices using model (MLP)')\n",
    "plt.show()\n"
   ]
  },
  {
   "cell_type": "markdown",
   "id": "146be821",
   "metadata": {},
   "source": [
    "- Vẽ biểu đồ phân tán để so sánh giá nhà thực tế `(Actual Prices)` và dự đoán `(Predicted Prices)`."
   ]
  },
  {
   "cell_type": "markdown",
   "id": "0d66ab1c",
   "metadata": {},
   "source": [
    "## **7. So sánh với các mô hình hồi quy khác**\n",
    "\n",
    "- Chúng tôi so sánh mô hình MLP với hồi quy tuyến tính(`Linear Regression`), hồi quy cây quyết định(`Decision Tree`) và hồi quy rừng ngẫu nhiên(`Random Forest`)."
   ]
  },
  {
   "cell_type": "markdown",
   "id": "3b358948",
   "metadata": {},
   "source": [
    "**7.1 Linear Regression**"
   ]
  },
  {
   "cell_type": "code",
   "execution_count": 14,
   "id": "5c04e301",
   "metadata": {},
   "outputs": [
    {
     "name": "stdout",
     "output_type": "stream",
     "text": [
      "predicted value:\n",
      "[28.99672362 36.02556534 14.81694405 25.03197915 18.76987992 23.25442929\n",
      " 17.66253818 14.34119    23.01320703 20.63245597 24.90850512 18.63883645\n",
      " -6.08842184 21.75834668 19.23922576 26.19319733 20.64773313  5.79472718\n",
      " 40.50033966 17.61289074 27.24909479 30.06625441 11.34179277 24.16077616\n",
      " 17.86058499 15.83609765 22.78148106 14.57704449 22.43626052 19.19631835\n",
      " 22.43383455 25.21979081 25.93909562 17.70162434 16.76911711 16.95125411\n",
      " 31.23340153 20.13246729 23.76579011 24.6322925  13.94204955 32.25576301\n",
      " 42.67251161 17.32745046 27.27618614 16.99310991 14.07009109 25.90341861\n",
      " 20.29485982 29.95339638 21.28860173 34.34451856 16.04739105 26.22562412\n",
      " 39.53939798 22.57950697 18.84531367 32.72531661 25.0673037  12.88628956\n",
      " 22.68221908 30.48287757 31.52626806 15.90148607 20.22094826 16.71089812\n",
      " 20.52384893 25.96356264 30.61607978 11.59783023 20.51232627 27.48111878\n",
      " 11.01962332 15.68096344 23.79316251  6.19929359 21.6039073  41.41377225\n",
      " 18.76548695  8.87931901 20.83076916 13.25620627 20.73963699  9.36482222\n",
      " 23.22444271 31.9155003  19.10228271 25.51579303 29.04256769 20.14358566\n",
      " 25.5859787   5.70159447 20.09474756 14.95069156 12.50395648 20.72635294\n",
      " 24.73957161 -0.164237   13.68486682 16.18359697 22.27621999 24.47902364]\n"
     ]
    }
   ],
   "source": [
    "#Linear Regression\n",
    "lr = LinearRegression()\n",
    "lr.fit(X_train_scaled, y_train)\n",
    "y_pred_lr = lr.predict(X_test_scaled)\n",
    "print(\"predicted value:\")\n",
    "print(y_pred_lr)"
   ]
  },
  {
   "cell_type": "markdown",
   "id": "8a0ed369",
   "metadata": {},
   "source": [
    "**7.2 Decision Tree**"
   ]
  },
  {
   "cell_type": "code",
   "execution_count": 15,
   "id": "13cf351a",
   "metadata": {},
   "outputs": [
    {
     "name": "stdout",
     "output_type": "stream",
     "text": [
      "predicted value:\n",
      "[28.1 33.1 17.3 22.  23.2 18.5 16.6 16.6 22.7 22.  20.5 27.1  8.4 21.4\n",
      " 18.5 23.9 18.8 10.5 46.  13.  23.1 24.4 13.6 22.  14.5 11.7 21.  13.5\n",
      " 19.4 20.7 18.8 23.1 10.4 16.2 13.3 13.1 33.4 18.5 20.4 24.8 19.8 28.4\n",
      " 46.  19.3 22.  13.  14.9 24.1 17.7 32.  21.7 36.1 16.7 28.4 43.1 18.5\n",
      " 15.2 22.8 22.  22.5 24.5 33.  29.4 19.3 26.6 14.4 13.  22.9 22.8 14.1\n",
      " 21.8 28.7  8.3 18.6 21.5 10.5 19.8 50.  13.3  8.1 21.2 16.3 19.4 10.5\n",
      " 14.5 29.9 14.8 23.1 22.9 18.  23.3  8.8 19.2 17.6 16.2 19.3 50.  16.3\n",
      " 11.7 16.3 19.  26.4]\n"
     ]
    }
   ],
   "source": [
    "#Decision Tree Regression\n",
    "dt = DecisionTreeRegressor(random_state=42)\n",
    "dt.fit(X_train_scaled, y_train)\n",
    "y_pred_dt = dt.predict(X_test_scaled)\n",
    "print(\"predicted value:\")\n",
    "print(y_pred_dt)"
   ]
  },
  {
   "cell_type": "markdown",
   "id": "b2ae2f51",
   "metadata": {},
   "source": [
    "**7.3 Random Forest Regression**"
   ]
  },
  {
   "cell_type": "code",
   "execution_count": 16,
   "id": "438b55cf",
   "metadata": {},
   "outputs": [
    {
     "name": "stdout",
     "output_type": "stream",
     "text": [
      "predicted value:\n",
      "[22.839 30.689 16.317 23.51  16.819 21.425 19.358 15.62  21.091 21.073\n",
      " 20.028 19.298  8.611 21.456 19.378 25.453 19.187  8.538 46.132 14.536\n",
      " 24.728 23.996 14.509 23.847 14.363 14.796 21.121 13.663 19.535 21.29\n",
      " 19.45  23.392 29.3   20.338 14.596 15.594 33.835 19.129 20.915 24.376\n",
      " 19.286 29.61  46.108 19.428 22.653 13.676 15.037 24.321 18.689 28.821\n",
      " 21.107 33.823 16.502 25.763 44.922 21.994 15.416 32.032 22.596 20.296\n",
      " 25.597 33.928 28.134 18.551 26.745 17.568 13.992 23.195 29.022 15.663\n",
      " 21.064 27.426 10.06  21.569 21.956  7.084 19.905 46.154 11.274 12.981\n",
      " 21.288 12.501 19.579  9.392 20.76  27.283 15.383 23.398 23.628 17.617\n",
      " 21.681  8.019 19.616 18.714 22.592 19.786 41.733 12.726 12.632 13.066\n",
      " 20.603 23.902]\n"
     ]
    }
   ],
   "source": [
    "#Random Forest Regression\n",
    "rf = RandomForestRegressor(random_state=42, n_estimators=100)\n",
    "rf.fit(X_train_scaled, y_train)\n",
    "y_pred_rf = rf.predict(X_test_scaled)\n",
    "print(\"predicted value:\")\n",
    "print(y_pred_rf)"
   ]
  },
  {
   "cell_type": "markdown",
   "id": "ab7a34ea",
   "metadata": {},
   "source": [
    "- `Mean Squared Error`(MSE): Đo chênh lệch bình phương trung bình giữa giá trị thực tế và giá trị dự đoán.\n",
    "- `R-squared`: Cho biết mô hình giải thích phương sai của biến mục tiêu tốt như thế nào.\n",
    "- So sánh MLP với các mô hình truyền thống (Hồi quy tuyến tính`(Linear Regression)`, Cây quyết định`(Decision Tree)`, Rừng ngẫu nhiên`(Random Forest)`)"
   ]
  },
  {
   "cell_type": "code",
   "execution_count": 17,
   "id": "2bf1ab18",
   "metadata": {},
   "outputs": [
    {
     "name": "stdout",
     "output_type": "stream",
     "text": [
      "MLP -> MSE: 11.95, r2-squared: 0.84\n",
      "Linear Regression -> MSE: 24.29, r2-squared: 0.67\n",
      "Decision Tree -> MSE: 10.42, r2-squared: 0.86\n",
      "Random Forest -> MSE: 7.91, r2-squared: 0.89\n"
     ]
    }
   ],
   "source": [
    "models = {\n",
    "    \"MLP\": y_pred_mlp.flatten(),\n",
    "    \"Linear Regression\": y_pred_lr,\n",
    "    \"Decision Tree\": y_pred_dt,\n",
    "    \"Random Forest\": y_pred_rf\n",
    "}\n",
    "\n",
    "for model_name, y_pred in models.items():\n",
    "    mse = mean_squared_error(y_test, y_pred)\n",
    "    r2 = r2_score(y_test, y_pred)\n",
    "    print(f\"{model_name} -> MSE: {mse:.2f}, r2-squared: {r2:.2f}\")"
   ]
  },
  {
   "cell_type": "markdown",
   "id": "bb74ce9f",
   "metadata": {},
   "source": [
    "source code github: https://github.com/HUyEsona/Practice-exercise-4-Multilayer-Perceptron-Regression-Exercise-Predicting-House-Prices.git"
   ]
  }
 ],
 "metadata": {
  "kernelspec": {
   "display_name": "myvenv",
   "language": "python",
   "name": "python3"
  },
  "language_info": {
   "codemirror_mode": {
    "name": "ipython",
    "version": 3
   },
   "file_extension": ".py",
   "mimetype": "text/x-python",
   "name": "python",
   "nbconvert_exporter": "python",
   "pygments_lexer": "ipython3",
   "version": "3.10.5"
  }
 },
 "nbformat": 4,
 "nbformat_minor": 5
}
